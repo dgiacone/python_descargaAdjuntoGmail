{
 "cells": [
  {
   "cell_type": "code",
   "execution_count": 7,
   "metadata": {},
   "outputs": [],
   "source": [
    "import imaplib\n",
    "import base64\n",
    "import os\n",
    "import email"
   ]
  },
  {
   "cell_type": "code",
   "execution_count": 10,
   "metadata": {},
   "outputs": [
    {
     "data": {
      "text/plain": [
       "('OK', [b'giaconelab@gmail.com authenticated (Success)'])"
      ]
     },
     "execution_count": 10,
     "metadata": {},
     "output_type": "execute_result"
    }
   ],
   "source": [
    "email_account = \"usuario\"\n",
    "email_password = \"clave\"\n",
    "mail = imaplib.IMAP4_SSL('imap.gmail.com',993)\n",
    "mail.login(email_account, email_password)\n"
   ]
  },
  {
   "cell_type": "code",
   "execution_count": 22,
   "metadata": {},
   "outputs": [],
   "source": [
    "mail.select('Inbox')\n",
    "type, data = mail.search(None, 'ALL')\n",
    "mail_ids = data[0]\n",
    "id_list = mail_ids.split()\n",
    "for num in data[0].split():\n",
    "    typ, data = mail.fetch(num, '(RFC822)' )\n",
    "    raw_email = data[0][1]\n",
    "# converts byte literal to string removing b''\n",
    "    raw_email_string = raw_email.decode('utf-8')\n",
    "    email_message = email.message_from_string(raw_email_string)\n",
    "# downloading attachments\n",
    "    for part in email_message.walk():\n",
    "        # this part comes from the snipped I don't understand yet... \n",
    "        if part.get_content_maintype() == 'multipart':\n",
    "            continue\n",
    "        if part.get('Content-Disposition') is None:\n",
    "            continue\n",
    "        fileName = part.get_filename()\n",
    "        if bool(fileName):\n",
    "            filePath = os.path.join('/home/damian/adjuntos/', fileName)\n",
    "            if not os.path.isfile(filePath) :\n",
    "                fp = open(filePath, 'wb')\n",
    "                fp.write(part.get_payload(decode=True))\n",
    "                fp.close()\n",
    "            subject = str(email_message).split(\"Subject: \", 1)[1].split(\"\\nTo:\", 1)[0]\n",
    "            #print('Downloaded \"{file}\" from email titled \"{subject}\" with UID {uid}.'.format(file=fileName, subject=subject, uid=latest_email_uid.decode('utf-8')))\n",
    " "
   ]
  },
  {
   "cell_type": "code",
   "execution_count": 23,
   "metadata": {},
   "outputs": [
    {
     "name": "stdout",
     "output_type": "stream",
     "text": [
      "From : Damian <damian@damiangiacone.com>\n",
      "\n",
      "Subject : REPORTE DE VENTAS\n",
      "\n",
      "None\n"
     ]
    }
   ],
   "source": [
    "for response_part in data:\n",
    "        if isinstance(response_part, tuple):\n",
    "            msg = email.message_from_string(response_part[1].decode('utf-8'))\n",
    "            email_subject = msg['subject']\n",
    "            email_from = msg['from']\n",
    "            print ('From : ' + email_from + '\\n')\n",
    "            print ('Subject : ' + email_subject + '\\n')\n",
    "            print(msg.get_payload(decode=True))"
   ]
  },
  {
   "cell_type": "code",
   "execution_count": null,
   "metadata": {},
   "outputs": [],
   "source": []
  }
 ],
 "metadata": {
  "kernelspec": {
   "display_name": "Python 3",
   "language": "python",
   "name": "python3"
  },
  "language_info": {
   "codemirror_mode": {
    "name": "ipython",
    "version": 3
   },
   "file_extension": ".py",
   "mimetype": "text/x-python",
   "name": "python",
   "nbconvert_exporter": "python",
   "pygments_lexer": "ipython3",
   "version": "3.8.5"
  }
 },
 "nbformat": 4,
 "nbformat_minor": 4
}
